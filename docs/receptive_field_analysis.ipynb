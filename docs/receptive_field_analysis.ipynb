{
 "cells": [
  {
   "cell_type": "markdown",
   "metadata": {},
   "source": [
    "# Purpose\n",
    "The purpose of the PSTH Receptive Field Analysis is (1) To determine if a response is significant, and (2) If the response is significant, identify the first, last, and peak latencies, the response magnitude, peak magnitude, and other measures of interest about the response."
   ]
  },
  {
   "cell_type": "markdown",
   "metadata": {},
   "source": [
    "![Receptive Field Visualization](images/psth_visualization.png)"
   ]
  },
  {
   "cell_type": "markdown",
   "metadata": {},
   "source": [
    "# Significance Determination\n",
    "There are several ways to determine if a channel has a significant response to a given event type. Here, we will outline the parameters that can be used to determine if the channel had a significant response.\n",
    "\n",
    "1. Channel psth is smoothed with a moving average filter\n",
    "  * user can set `span` to control smoothing\n",
    "  * if span < 3, no smoothing happens\n",
    "  * if span is even, matlab will do span - 1 to make it odd\n",
    "2. Determine threshold\n",
    "  * threshold = background firing rate + (threshold_scalar * std(background firing rate))\n",
    "  * user can set `threshold_scalar` to any scalar value\n",
    "3. Check to see if enough consecutive bins are above threshold\n",
    "  * user can set `consec_bins` to an int value of number of consecutive bins they want\n",
    "4. Statistical testing (if selected)\n",
    "  * check to see if baseline psth is statistically different from response psth\n",
    "  * user can set `sig_check`\n",
    "    * 0 = none, 1 = two sample t test, 2 = two sample ks test\n",
    "5. If significant, then find metrics\n",
    "  * if `mixed_smoothing` is true\n",
    "    * `span` >= 3, otherwise no smoothing will occur\n",
    "    * fbl, lbl, and duration will be found using the smoothed psth\n",
    "    * rm, corrected rm, peak, pbl, response window firing rate, and response window total spikes will be found based on the unsmoothed psth"
   ]
  },
  {
   "cell_type": "markdown",
   "metadata": {},
   "source": [
    "# Calculations\n",
    "The calculations below are done on the PSTH data structure. If you are unsure what that means, please click here for more information.  \n",
    "$$\\text{background_rate} = mean(\\text{baseline_psth})$$  \n",
    "$$\\text{background_std} = std(\\text{baseline_psth})$$  \n",
    "\n",
    "\n",
    "|Variable Name| Description | \n",
    "|:-----------:|:----------:|\n",
    "|background_rate|the mean firing rate of the psth across the baseline window|\n",
    "|background_std|the standard deviation of the firing rate of the psth across the baseline window|\n",
    "|response_window_firing_rate|mean firing rate of the psth across the response window regardless of significance. `Applies mixed_smoothing`|\n",
    "|response_window_tot_spikes|sum of all values in response window of psth regardless of significance. `Applies mixed_smoothing`|\n",
    "|threshold|`background_rate` multiplied by the number of standard deviations designated by `threshold_scalar` in the config file|\n",
    "|first_latency|timepoint of the first bin of the response window above threshold|\n",
    "|last_latency|timepoint of the last bin of the response window above threshold|\n",
    "|duration|`last_latency` subtracted from `first_latency`|\n",
    "|peak_latency|the bin with the maximum firing rate|\n",
    "|peak_response|the bin that has the maximum firing rate|\n",
    "|corrected_peak|`background_rate` subtracted from `peak_response`|\n",
    "|response_magnitude|sum of all bins between first and last bin above threshold (inclusive)|\n",
    "|corrected_response_magnitude|`background_rate` subtracted from `response_magnitude`|"
   ]
  },
  {
   "cell_type": "markdown",
   "metadata": {},
   "source": [
    "# Output CSV\n",
    "|Variable Name| Description | \n",
    "|:-----------:|:----------:|\n",
    "|filename|the filename of the recording|\n",
    "|animal_id|animal id is extracted from the filename|\n",
    "|exp_group|experimental group is extracted from the filename|\n",
    "|exp_condition|experimental condition is extracted  from the filename|\n",
    "|optional_info|optional information is extracted from the filename|\n",
    "|date|date is extracted from the filename|\n",
    "|record_session|recording session is extracted from the filename|\n",
    "|baseline_start|the timepoint (relative to event start) that was designated as the start of the baseline window in the config file|\n",
    "|baseline_end|the timepoint (relative to event start) that was designated as the end of the baseline window in the config file|\n",
    "|window_end|the time window after event onset that was designated in the config file|\n",
    "|response_start|the timepoint (relative to event start) that was  designated as the start of the response window in the config file|\n",
    "|response_end|the timepoint (relative to event start) that was designated as the end of the response window in the config file|\n",
    "|bin_size|the bin size for the PSTH that was designated in the config file|\n",
    "|sig_alpha|the alpha value for statistical significance testing that was designated in the config file|\n",
    "|mixed_smoothing|designated in the config file, if value = 0, the psth is smoothed as defined by `span`. If value = 1, both the unsmoothed and smoothed PSTH are used to calculate response metrics (smoothed psth to calculate latency and duration; unsmoothed psth to calculate response magnitude, peak latency, and peak peak magnitude).\n",
    "|sig_check|designated in the config file, no statistical testing is performed if value = 0, paired t-test if value = 1, ks test on baseline and response windows if value = 2|\n",
    "|consec_bins|designated in the config file, the number of consecutive bins required above threshold for significance|\n",
    "|span|designated in the config file, the number of bins used to smooth the data using the moving average filter|\n",
    "|threshold_scalar|designated in the config file, the number of standard deviations used to determine `threshold`|\n",
    "|cluster_analysis|designated in the config file, cluster analysis is performed if value = 1, cluster analysis is not performed if value = 0|\n",
    "|bin_gap|designated in the config file, the number of bins that must be below threshold before designated as a new cluster|\n",
    "|region|designated in the labels file, the cortical layer of the channel|\n",
    "|sig_channels|designated in the labels file, the name of the signal channel in the recording file|\n",
    "|user_channels|designated in the labels file, an arbitrary name of the signal channel created by the experimenter that can be manipulated to sort channels|\n",
    "|event|event information is extracted from the recording file|\n",
    "|significant|if the response is significant, the value = 1. If it is not significant, the value = 0.|\n",
    "|background_rate|the mean firing rate of the psth across the baseline window|\n",
    "|background_std|the standard deviation of the firing rate of the psth across the baseline window|\n",
    "|response_window_firing_rate|mean firing rate of the psth across the response window|\n",
    "|response_window_tot_spikes|`response_magnitude` of all bins, regardless of significance|\n",
    "|threshold|`background_rate` multiplied by the number of standard deviations designated by `threshold_scalar` in the config file\n",
    "|first_latency|if `significant` = 1, the timepoint of the first bin of the response window above threshold|\n",
    "|last_latency|if `significant` = 1, the timepoint of the last bin of the response window above threshold|\n",
    "|duration|`last_latency` subtracted from `first_latency|`\n",
    "|peak_latency|the bin with the maximum firing rate|\n",
    "|peak_response|the bin that has the maximum firing rate|\n",
    "|corrected_peak|`background_rate` subtracted from `peak_response`|\n",
    "|response_magnitude|the total firing rate of all bins in the response window|\n",
    "|corrected_response_magnitude|`background_rate` subtracted from `response_magnitude`|\n",
    "|total_sig_events|the total number of significant events|\n",
    "|principal_event|the significant event that has the maximum magnitude|\n",
    "|norm_response_magnitude|`response_magnitude` normalized to the `principal_event`| \n",
    "|recording_notes|notes on channels that are extracted from the labels file|"
   ]
  },
  {
   "cell_type": "markdown",
   "metadata": {},
   "source": [
    "# References\n",
    "## TODO"
   ]
  }
 ],
 "metadata": {
  "kernelspec": {
   "display_name": "Python 3",
   "language": "python",
   "name": "python3"
  },
  "language_info": {
   "codemirror_mode": {
    "name": "ipython",
    "version": 3
   },
   "file_extension": ".py",
   "mimetype": "text/x-python",
   "name": "python",
   "nbconvert_exporter": "python",
   "pygments_lexer": "ipython3",
   "version": "3.8.2"
  }
 },
 "nbformat": 4,
 "nbformat_minor": 4
}
