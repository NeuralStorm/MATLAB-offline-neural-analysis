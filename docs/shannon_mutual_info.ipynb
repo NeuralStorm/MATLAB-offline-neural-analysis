{
 "cells": [
  {
   "cell_type": "markdown",
   "metadata": {},
   "source": [
    "# Information Theory\n",
    "For more detailed numerical examples, [please check out this discussion.](https://github.com/moxon-lab-codebase/BIM289-discussion/blob/master/hw2_discussion.ipynb)"
   ]
  },
  {
   "cell_type": "markdown",
   "metadata": {},
   "source": [
    "# Purpose\n",
    "Explain the forumales applied to calculate entropy and mutual information in the codebase. Neural information can be conveyed in two ways: (1) the timing of the activity and (2) the magnitude of the activty. In terms of calculating entropy and mutual information for these two forms, the same formulas apply but only the input probabilities change."
   ]
  },
  {
   "cell_type": "markdown",
   "metadata": {},
   "source": [
    "# Calculations"
   ]
  },
  {
   "cell_type": "markdown",
   "metadata": {},
   "source": [
    "## Entropy\n",
    "$$H = -\\Sigma{p(r_i)log_2(p(r_i))}$$\n",
    "* r = response (spike count, spike timing, etc.)\n",
    "* $p(r_i)$ = probability of response occuring for given event"
   ]
  },
  {
   "cell_type": "markdown",
   "metadata": {},
   "source": [
    "## Mutual Information\n",
    "$$I_\\text{neuron} = \\Sigma_{i = 1..S}\\;{p(s_i)\\;\\Sigma_{j = 1..R}\\;{p(r_j|s_i)\\;log_2[ \\frac {p(r_j|s_i)} {p(r_j)} ]}}$$\n",
    "* r = response \n",
    "  * ex: spike count\n",
    "  * ex: spike timing\n",
    "* s = stimulus (ie: event)\n",
    "* $p(s_i)$ = probability of event\n",
    "* $p(r_j|s_i)$ = probality of response given an event\n",
    "  * $p(r_\\mathrm{spike counts:neuron\\_1= 0} | s_\\mathrm{event\\_1})$\n",
    "* $p(r_j)$ = probability of response across all events\n",
    "  * $p(r_\\mathrm{spike counts:neuron\\_1= 0})$"
   ]
  },
  {
   "cell_type": "markdown",
   "metadata": {},
   "source": [
    "# References"
   ]
  }
 ],
 "metadata": {
  "kernelspec": {
   "display_name": "Python 3",
   "language": "python",
   "name": "python3"
  },
  "language_info": {
   "codemirror_mode": {
    "name": "ipython",
    "version": 3
   },
   "file_extension": ".py",
   "mimetype": "text/x-python",
   "name": "python",
   "nbconvert_exporter": "python",
   "pygments_lexer": "ipython3",
   "version": "3.8.2"
  }
 },
 "nbformat": 4,
 "nbformat_minor": 4
}
